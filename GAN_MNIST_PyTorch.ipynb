{
  "nbformat": 4,
  "nbformat_minor": 0,
  "metadata": {
    "colab": {
      "provenance": [],
      "gpuType": "T4"
    },
    "kernelspec": {
      "name": "python3",
      "display_name": "Python 3"
    },
    "language_info": {
      "name": "python"
    },
    "accelerator": "GPU"
  },
  "cells": [
    {
      "cell_type": "markdown",
      "source": [
        "# Pytorch MNIST GAN (test)"
      ],
      "metadata": {
        "id": "r5ncEjG6iGFu"
      }
    },
    {
      "cell_type": "code",
      "source": [
        "#@title Load Dataset\n",
        "\n",
        "import torch\n",
        "\n",
        "print(torch.cuda.is_available()) #check Notebook settings\n",
        "\n",
        "import torchvision.datasets as dsets\n",
        "import torch.nn as nn\n",
        "import torchvision.transforms as transforms\n",
        "import matplotlib.pyplot as plt\n",
        "\n",
        "dataset=dsets.MNIST(root='/content/mnist', train=False, download=True, transform=transforms.Compose([\n",
        "    transforms.Resize(size=(64,64)),\n",
        "    transforms.ToTensor(),\n",
        "    transforms.Normalize((0.5,), (0.5,))\n",
        "]))\n"
      ],
      "metadata": {
        "colab": {
          "base_uri": "https://localhost:8080/"
        },
        "id": "iad-QvHZiHQd",
        "outputId": "7defce73-68a0-4a6a-c78d-51c484930684"
      },
      "execution_count": 2,
      "outputs": [
        {
          "output_type": "stream",
          "name": "stdout",
          "text": [
            "True\n",
            "Downloading http://yann.lecun.com/exdb/mnist/train-images-idx3-ubyte.gz\n",
            "Downloading http://yann.lecun.com/exdb/mnist/train-images-idx3-ubyte.gz to /content/mnist/MNIST/raw/train-images-idx3-ubyte.gz\n"
          ]
        },
        {
          "output_type": "stream",
          "name": "stderr",
          "text": [
            "100%|██████████| 9912422/9912422 [00:00<00:00, 111261390.20it/s]\n"
          ]
        },
        {
          "output_type": "stream",
          "name": "stdout",
          "text": [
            "Extracting /content/mnist/MNIST/raw/train-images-idx3-ubyte.gz to /content/mnist/MNIST/raw\n",
            "\n",
            "Downloading http://yann.lecun.com/exdb/mnist/train-labels-idx1-ubyte.gz\n",
            "Downloading http://yann.lecun.com/exdb/mnist/train-labels-idx1-ubyte.gz to /content/mnist/MNIST/raw/train-labels-idx1-ubyte.gz\n"
          ]
        },
        {
          "output_type": "stream",
          "name": "stderr",
          "text": [
            "100%|██████████| 28881/28881 [00:00<00:00, 116141604.82it/s]"
          ]
        },
        {
          "output_type": "stream",
          "name": "stdout",
          "text": [
            "Extracting /content/mnist/MNIST/raw/train-labels-idx1-ubyte.gz to /content/mnist/MNIST/raw\n",
            "\n",
            "Downloading http://yann.lecun.com/exdb/mnist/t10k-images-idx3-ubyte.gz\n",
            "Downloading http://yann.lecun.com/exdb/mnist/t10k-images-idx3-ubyte.gz to /content/mnist/MNIST/raw/t10k-images-idx3-ubyte.gz\n"
          ]
        },
        {
          "output_type": "stream",
          "name": "stderr",
          "text": [
            "\n",
            "100%|██████████| 1648877/1648877 [00:00<00:00, 39589056.15it/s]\n"
          ]
        },
        {
          "output_type": "stream",
          "name": "stdout",
          "text": [
            "Extracting /content/mnist/MNIST/raw/t10k-images-idx3-ubyte.gz to /content/mnist/MNIST/raw\n",
            "\n",
            "Downloading http://yann.lecun.com/exdb/mnist/t10k-labels-idx1-ubyte.gz\n",
            "Downloading http://yann.lecun.com/exdb/mnist/t10k-labels-idx1-ubyte.gz to /content/mnist/MNIST/raw/t10k-labels-idx1-ubyte.gz\n"
          ]
        },
        {
          "output_type": "stream",
          "name": "stderr",
          "text": [
            "100%|██████████| 4542/4542 [00:00<00:00, 20202045.35it/s]"
          ]
        },
        {
          "output_type": "stream",
          "name": "stdout",
          "text": [
            "Extracting /content/mnist/MNIST/raw/t10k-labels-idx1-ubyte.gz to /content/mnist/MNIST/raw\n",
            "\n"
          ]
        },
        {
          "output_type": "stream",
          "name": "stderr",
          "text": [
            "\n"
          ]
        }
      ]
    },
    {
      "cell_type": "code",
      "source": [
        "from torch.utils.data import DataLoader\n",
        "\n",
        "dataloader = DataLoader(dataset, batch_size=64, shuffle=True)\n",
        "\n",
        "train_features, train_labels = next(iter(dataloader))\n",
        "print(f\"Feature batch shape: {train_features.size()}\")\n",
        "print(f\"Labels batch shape: {train_labels.size()}\")\n",
        "img = train_features[0].squeeze()\n",
        "label = train_labels[0]\n",
        "plt.imshow(img, cmap=\"gray\")\n",
        "plt.show()\n",
        "print(f\"Label: {label}\")"
      ],
      "metadata": {
        "colab": {
          "base_uri": "https://localhost:8080/",
          "height": 484
        },
        "id": "QkrfHwbdiHWd",
        "outputId": "db225957-737d-430e-b5ac-5bd5f87c8aa8"
      },
      "execution_count": 3,
      "outputs": [
        {
          "output_type": "stream",
          "name": "stdout",
          "text": [
            "Feature batch shape: torch.Size([64, 1, 64, 64])\n",
            "Labels batch shape: torch.Size([64])\n"
          ]
        },
        {
          "output_type": "display_data",
          "data": {
            "text/plain": [
              "<Figure size 640x480 with 1 Axes>"
            ],
            "image/png": "[encoded data removed]"
          },
          "metadata": {}
        },
        {
          "output_type": "stream",
          "name": "stdout",
          "text": [
            "Label: 9\n"
          ]
        }
      ]
    },
    {
      "cell_type": "code",
      "source": [
        "#@title Generator Model definition\n",
        "\n",
        "class Generator(nn.Module):\n",
        "    def __init__(self):\n",
        "        super().__init__()\n",
        "        self.sequential = nn.Sequential(\n",
        "\n",
        "          #1st layer (input) --> starting from a [1,100] noise, produce a (64,64,1) image\n",
        "          nn.ConvTranspose2d(100, 64 * 8, 4, 1, 0, bias=False), # in, out, kernel size, stride, padding\n",
        "          nn.BatchNorm2d(64 * 8),\n",
        "          nn.ReLU(True),\n",
        "\n",
        "\n",
        "          #2nd layer (1st hidden)\n",
        "          nn.ConvTranspose2d(64 * 8, 64 * 4, 4, 2, 1, bias=False),\n",
        "          nn.BatchNorm2d(64 * 4),\n",
        "          nn.ReLU(True),\n",
        "\n",
        "          #3rd layer (2nd hidden)\n",
        "          nn.ConvTranspose2d(64 * 4, 64 * 2, 4, 2, 1, bias=False),\n",
        "          nn.BatchNorm2d(64 * 2),\n",
        "          nn.ReLU(True),\n",
        "\n",
        "          #4th layer (3rd hidden)\n",
        "          nn.ConvTranspose2d(64 * 2, 64, 4, 2, 1, bias=False),\n",
        "          nn.BatchNorm2d(64),\n",
        "          nn.ReLU(True),\n",
        "\n",
        "          #5th layer (output)\n",
        "          nn.ConvTranspose2d(64, 1, 4, 2, 1, bias=False),\n",
        "          nn.Tanh()\n",
        "        )\n",
        "\n",
        "\n",
        "\n",
        "    def forward(self, x):\n",
        "        return self.sequential(x)"
      ],
      "metadata": {
        "id": "aAEoxB-txmXn"
      },
      "execution_count": 4,
      "outputs": []
    },
    {
      "cell_type": "code",
      "source": [
        "class Discriminator(nn.Module):\n",
        "  def __init__(self):\n",
        "        super().__init__()\n",
        "        self.sequential = nn.Sequential(\n",
        "          # 1st\n",
        "          nn.Conv2d(1, 64, 4, 2, 1, bias=False), # in, out, kernel size, stride, padding\n",
        "          nn.LeakyReLU(0.2, inplace=True),\n",
        "\n",
        "          # 2nd layer\n",
        "          nn.Conv2d(64, 64 * 2, 4, 2, 1, bias=False),\n",
        "          nn.BatchNorm2d(64 * 2),\n",
        "          nn.LeakyReLU(0.2, inplace=True),\n",
        "\n",
        "          # 3rd layer\n",
        "          nn.Conv2d(64 * 2, 64 * 4, 4, 2, 1, bias=False),\n",
        "          nn.BatchNorm2d(64 * 4),\n",
        "          nn.LeakyReLU(0.2, inplace=True),\n",
        "\n",
        "          # 4th layer\n",
        "          nn.Conv2d(64 * 4, 64 * 8, 4, 2, 1, bias=False),\n",
        "          nn.BatchNorm2d(64 * 8),\n",
        "          nn.LeakyReLU(0.2, inplace=True),\n",
        "\n",
        "          # output layer\n",
        "          nn.Conv2d(64 * 8, 1, 4, 1, 0, bias=False),\n",
        "          nn.Sigmoid()\n",
        "        )\n",
        "\n",
        "  def forward(self, x):\n",
        "        return self.sequential(x).view(-1, 1).squeeze(1) #???"
      ],
      "metadata": {
        "id": "qy93icEtxmZu"
      },
      "execution_count": 5,
      "outputs": []
    },
    {
      "cell_type": "code",
      "source": [
        "generator=Generator()\n",
        "discriminator=Discriminator()\n",
        "\n",
        "print(generator)\n",
        "#print(discriminator)"
      ],
      "metadata": {
        "colab": {
          "base_uri": "https://localhost:8080/"
        },
        "id": "3Tde6ogxxmbm",
        "outputId": "b7031423-ea84-4f1a-e550-2fb4c2618515"
      },
      "execution_count": 6,
      "outputs": [
        {
          "output_type": "stream",
          "name": "stdout",
          "text": [
            "Generator(\n",
            "  (sequential): Sequential(\n",
            "    (0): ConvTranspose2d(100, 512, kernel_size=(4, 4), stride=(1, 1), bias=False)\n",
            "    (1): BatchNorm2d(512, eps=1e-05, momentum=0.1, affine=True, track_running_stats=True)\n",
            "    (2): ReLU(inplace=True)\n",
            "    (3): ConvTranspose2d(512, 256, kernel_size=(4, 4), stride=(2, 2), padding=(1, 1), bias=False)\n",
            "    (4): BatchNorm2d(256, eps=1e-05, momentum=0.1, affine=True, track_running_stats=True)\n",
            "    (5): ReLU(inplace=True)\n",
            "    (6): ConvTranspose2d(256, 128, kernel_size=(4, 4), stride=(2, 2), padding=(1, 1), bias=False)\n",
            "    (7): BatchNorm2d(128, eps=1e-05, momentum=0.1, affine=True, track_running_stats=True)\n",
            "    (8): ReLU(inplace=True)\n",
            "    (9): ConvTranspose2d(128, 64, kernel_size=(4, 4), stride=(2, 2), padding=(1, 1), bias=False)\n",
            "    (10): BatchNorm2d(64, eps=1e-05, momentum=0.1, affine=True, track_running_stats=True)\n",
            "    (11): ReLU(inplace=True)\n",
            "    (12): ConvTranspose2d(64, 1, kernel_size=(4, 4), stride=(2, 2), padding=(1, 1), bias=False)\n",
            "    (13): Tanh()\n",
            "  )\n",
            ")\n"
          ]
        }
      ]
    },
    {
      "cell_type": "code",
      "source": [
        "#@title Loss function definition and optimizer\n",
        "import torch.optim as optim\n",
        "\n",
        "loss=nn.BCELoss() #Binary Cross-Entropy\n",
        "\n",
        "optimizerG=optim.Adam(generator.parameters(), 1e-4)\n",
        "optimizerD=optim.Adam(discriminator.parameters(), 1e-4)\n"
      ],
      "metadata": {
        "id": "yFe1V4Dxxmdm"
      },
      "execution_count": 7,
      "outputs": []
    },
    {
      "cell_type": "markdown",
      "source": [
        "##Training Loop (Da approfondire)"
      ],
      "metadata": {
        "id": "Fh6Mtbt6AKgB"
      }
    },
    {
      "cell_type": "code",
      "source": [
        "print(\"Starting Training\")\n",
        "\n",
        "num_epochs=5\n",
        "for epoch in range(num_epochs):\n",
        "  for i, data in enumerate(dataloader,0):\n",
        "\n",
        "    #Discriminator with real data interaction\n",
        "\n",
        "    discriminator.zero_grad() #set grads to zero --> Pytorch accumulates gradients\n",
        "\n",
        "    real=data[0]\n",
        "    size=real.size(0)\n",
        "    label=torch.full((size,),1, dtype=torch.float) #create a tensor with \"1\" (REAL_LABEL) values\n",
        "\n",
        "    #passo il batch reale al discriminator\n",
        "    output=discriminator(real).view(-1) #la view(-1) è una flatten sostanzialmente\n",
        "\n",
        "    #compute loss\n",
        "    discriminator_real_error=loss(output,label)\n",
        "\n",
        "    discriminator_real_error.backward() #calculate gradient\n",
        "\n",
        "    D_x=output.mean().item()\n",
        "\n",
        "    #Discriminator with fake data interaction\n",
        "\n",
        "    seed=torch.randn(size,100,1,1) #size: numero di campioni\n",
        "                                   # 100: numero di elementi per campione\n",
        "                                   # 1: single-channel (cmap ='gray')\n",
        "                                   # 1: single-channel (cmap ='gray')\n",
        "\n",
        "    fake_image=generator(seed)\n",
        "    label.fill_(0) # fill_ doesn't create a new tensor, just replaces the older one, filling it with \"0\" (FAKE_LABEL) values\n",
        "\n",
        "    output=discriminator(fake_image.detach()).view(-1) #sempre view xk devo fare la flatten in uscita\n",
        "                                                       #detach da approfondire: in sostanza sembra che stacchi il tensore dal grafo computazionale,\n",
        "                                                       #   e questo comporta una maggiore efficienza e prevenire il leakage del gradiente (???)\n",
        "    discriminator_fake_error= loss(output,label)\n",
        "    discriminator_fake_error.backward()\n",
        "\n",
        "    D_G_z1=output.mean().item()\n",
        "\n",
        "    total_error=discriminator_real_error+discriminator_fake_error #loss come somma delle due loss\n",
        "\n",
        "    optimizerD.step() #update del discriminator\n",
        "\n",
        "    #Generator (!) with fake data interaction\n",
        "\n",
        "    generator.zero_grad()\n",
        "\n",
        "    label.fill_(1) #real label\n",
        "\n",
        "    output=discriminator(fake_image).view(-1)\n",
        "    Generator_error=loss(output,label)\n",
        "\n",
        "\n",
        "'''\n",
        "    # Output training stats\n",
        "    if i % 50 == 0:\n",
        "        print('[%d/%d][%d/%d]\\tLoss_D: %.4f\\tLoss_G: %.4f\\tD(x): %.4f\\tD(G(z)): %.4f / %.4f'\n",
        "              % (epoch, EPOCH_NUM, i, len(dataloader),\n",
        "                  errD.item(), errG.item(), D_x, D_G_z1, D_G_z2))\n",
        "\n",
        "    # Save Losses for plotting later\n",
        "    G_losses.append(errG.item())\n",
        "    D_losses.append(errD.item())\n",
        "\n",
        "    # Check how the generator is doing by saving G's output on fixed_noise\n",
        "    if (iters % 500 == 0) or ((epoch == EPOCH_NUM-1) and (i == len(dataloader)-1)):\n",
        "        with torch.no_grad():\n",
        "            fake = netG(viz_noise).detach().cpu()\n",
        "        img_list.append(vutils.make_grid(fake, padding=2, normalize=True))\n",
        "\n",
        "    iters += 1\n",
        "'''"
      ],
      "metadata": {
        "colab": {
          "base_uri": "https://localhost:8080/"
        },
        "id": "YmZXMaZUAJax",
        "outputId": "31172205-ac3c-4b14-8fa9-5fd3d986b2a8"
      },
      "execution_count": null,
      "outputs": [
        {
          "output_type": "stream",
          "name": "stdout",
          "text": [
            "Starting Training\n"
          ]
        }
      ]
    },
    {
      "cell_type": "code",
      "source": [
        "#@title Plot Real images batch\n",
        "\n",
        "real_batch=next(iter(dataloader)) #dataloader mi prende automaticamente il batch\n",
        "\n",
        "\n",
        "plt.imshow(real_batch) #??? da testare\n"
      ],
      "metadata": {
        "id": "mGWSJHYIPSC4"
      },
      "execution_count": null,
      "outputs": []
    },
    {
      "cell_type": "code",
      "source": [
        "#@title PROVA --> TODO: manca la specifica della label per ogni immagine\n",
        "\n",
        "def visualize_batch(batch):\n",
        "\t# initialize a figure\n",
        "\tfig = plt.figure(\"testing plot\",\n",
        "\t\tfigsize=(64, 64))\n",
        "\t# loop over the batch size\n",
        "\tfor i in range(0, 64):\n",
        "\t\t# create a subplot\n",
        "\t\tax = plt.subplot(2, 4, i + 1)\n",
        "\t\t# grab the image, convert it from channels first ordering to\n",
        "\t\t# channels last ordering, and scale the raw pixel intensities\n",
        "\t\t# to the range [0, 255]\n",
        "\t\timage = batch[0][i].cpu().numpy()\n",
        "\t\timage = image.transpose((1, 2, 0))\n",
        "\t\timage = (image * 255.0).astype(\"uint8\")\n",
        "\n",
        "\t\t# show the image\n",
        "\t\tplt.imshow(image)\n",
        "\t\tplt.axis(\"off\")\n",
        "\t# show the plot\n",
        "\tplt.tight_layout()\n",
        "\tplt.show()\n",
        "\n",
        "\n",
        "real_batch=next(iter(dataloader)) #dataloader mi prende automaticamente il batch\n",
        "visualize_batch(real_batch)"
      ],
      "metadata": {
        "id": "18CFB_XwGel5"
      },
      "execution_count": null,
      "outputs": []
    }
  ]
}